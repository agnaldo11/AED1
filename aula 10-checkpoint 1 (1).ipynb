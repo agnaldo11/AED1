{
 "cells": [
  {
   "cell_type": "code",
   "execution_count": 23,
   "id": "807c4ec1-962b-4a19-951f-c0faa25a490a",
   "metadata": {},
   "outputs": [
    {
     "name": "stdout",
     "output_type": "stream",
     "text": [
      "Digite as idades das pessoas<p/sair digite -1>.\n"
     ]
    },
    {
     "name": "stdin",
     "output_type": "stream",
     "text": [
      "Digite uma idade:  33\n",
      "Digite uma idade:  66\n",
      "Digite uma idade:  5\n",
      "Digite uma idade:  -1\n"
     ]
    },
    {
     "name": "stdout",
     "output_type": "stream",
     "text": [
      "\n",
      "Resultados:\n",
      "Quantidade de idades digitadas: 3\n",
      "Média das idades: 34.666666666666664\n"
     ]
    }
   ],
   "source": [
    "idades = []\n",
    "\n",
    "print(\"Digite as idades das pessoas<p/sair digite -1>.\")\n",
    "\n",
    "while True:\n",
    "  \n",
    "        idade = int(input(\"Digite uma idade: \"))\n",
    "        if idade == -1:\n",
    "            break\n",
    "        \n",
    "        idades.append(idade)\n",
    "\n",
    "idades_tupla = tuple(idades)\n",
    "\n",
    "quantidade = len(idades_tupla)\n",
    "media = sum(idades_tupla) / quantidade if quantidade > 0 else 0\n",
    "\n",
    "print(\"\\nResultados:\")\n",
    "print(f\"Quantidade de idades digitadas: {quantidade}\")\n",
    "print(f\"Média das idades: {media:}\")"
   ]
  },
  {
   "cell_type": "code",
   "execution_count": 35,
   "id": "1164a3c7-2f52-43d6-a672-a66eacdacf3f",
   "metadata": {},
   "outputs": [
    {
     "data": {
      "text/plain": [
       "dict"
      ]
     },
     "execution_count": 35,
     "metadata": {},
     "output_type": "execute_result"
    }
   ],
   "source": [
    "Produto = {\"Batata\": 1.20, \"Tomate\": 2.30, \"Alface\": 0.45}\n",
    "\n",
    "type (Produto)"
   ]
  },
  {
   "cell_type": "code",
   "execution_count": 31,
   "id": "1d118694-6f69-4d5b-8e76-3ddb4cca0554",
   "metadata": {},
   "outputs": [
    {
     "data": {
      "text/plain": [
       "1.2"
      ]
     },
     "execution_count": 31,
     "metadata": {},
     "output_type": "execute_result"
    }
   ],
   "source": [
    "Produto[Batata\"]"
   ]
  },
  {
   "cell_type": "code",
   "execution_count": null,
   "id": "47417cca-8e9d-431f-88ff-ed0bd7d73266",
   "metadata": {},
   "outputs": [],
   "source": []
  }
 ],
 "metadata": {
  "kernelspec": {
   "display_name": "Python [conda env:base] *",
   "language": "python",
   "name": "conda-base-py"
  },
  "language_info": {
   "codemirror_mode": {
    "name": "ipython",
    "version": 3
   },
   "file_extension": ".py",
   "mimetype": "text/x-python",
   "name": "python",
   "nbconvert_exporter": "python",
   "pygments_lexer": "ipython3",
   "version": "3.12.7"
  }
 },
 "nbformat": 4,
 "nbformat_minor": 5
}

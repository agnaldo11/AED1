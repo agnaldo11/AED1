{
 "cells": [
  {
   "cell_type": "code",
   "execution_count": null,
   "id": "67193030-e394-4fb9-8683-0da4bd27c4ff",
   "metadata": {},
   "outputs": [],
   "source": [
    "for i in range(10,0,-1):\n",
    "    print(i)"
   ]
  },
  {
   "cell_type": "code",
   "execution_count": null,
   "id": "249c7fe8-e441-4985-9932-9e74456e6e49",
   "metadata": {},
   "outputs": [],
   "source": [
    "n = int(input(\"Digite o valor de N:\"))\n",
    "fat = 1\n",
    "if n < 0:\n",
    "    print(\"Fatorial não existe!\")\n",
    "elif n == 0:\n",
    "    print(\"Fatorial é igual a 1\")\n",
    "else:\n",
    "    for i in range(1, n+1):\n",
    "        fat = fat * i\n",
    "        f = f\"O fatorial de {n}, é igual a {fat}!\"\n",
    "    print(f)\n",
    "    "
   ]
  },
  {
   "cell_type": "code",
   "execution_count": 3,
   "id": "4e3dc68a-2500-41cb-a3f0-4bee353604b8",
   "metadata": {},
   "outputs": [
    {
     "name": "stdin",
     "output_type": "stream",
     "text": [
      "Digite um número:  3\n"
     ]
    },
    {
     "name": "stdout",
     "output_type": "stream",
     "text": [
      "1 x 3 = 3\n",
      "2 x 3 = 6\n",
      "3 x 3 = 9\n",
      "4 x 3 = 12\n",
      "5 x 3 = 15\n",
      "6 x 3 = 18\n",
      "7 x 3 = 21\n",
      "8 x 3 = 24\n",
      "9 x 3 = 27\n",
      "10 x 3 = 30\n"
     ]
    }
   ],
   "source": [
    "n = int(input(\"Digite um número: \"))\n",
    "i = 1\n",
    "while i < 11:\n",
    "    print(i, \"x\", n, \"=\", i * n)\n",
    "    i = i + 1"
   ]
  },
  {
   "cell_type": "code",
   "execution_count": 7,
   "id": "65ccb6ec-66c2-472b-995b-24abdaffc367",
   "metadata": {},
   "outputs": [
    {
     "name": "stdin",
     "output_type": "stream",
     "text": [
      "Entre com um valor <-1 para sair>:  5\n",
      "Entre com um valor <-1 para sair>:  5\n",
      "Entre com um valor <-1 para sair>:  5\n",
      "Entre com um valor <-1 para sair>:  5\n",
      "Entre com um valor <-1 para sair>:  -1\n"
     ]
    },
    {
     "name": "stdout",
     "output_type": "stream",
     "text": [
      "A media dos números é igual a:  5.0\n"
     ]
    }
   ],
   "source": [
    "#calculando media\n",
    "soma = 0\n",
    "qtd = 0\n",
    "numero = 0\n",
    "while numero != -1:\n",
    "    numero = int(input(\"Entre com um valor <-1 para sair>: \"))\n",
    "    if (numero != -1):\n",
    "        soma = soma+numero\n",
    "        qtd = qtd+1\n",
    "media = soma / qtd\n",
    "print(\"A media dos números é igual a: \", media)"
   ]
  },
  {
   "cell_type": "code",
   "execution_count": 1,
   "id": "cd50df07-b43c-4104-b5f0-eab09deee9f3",
   "metadata": {},
   "outputs": [
    {
     "name": "stdin",
     "output_type": "stream",
     "text": [
      "Digite a altura (metros):  1.70\n",
      "Digite o peso (kg):  80\n"
     ]
    },
    {
     "name": "stdout",
     "output_type": "stream",
     "text": [
      "Imc =  27.68166089965398\n"
     ]
    },
    {
     "name": "stdin",
     "output_type": "stream",
     "text": [
      "Digite a altura (metros):  1.90\n",
      "Digite o peso (kg):  70\n"
     ]
    },
    {
     "name": "stdout",
     "output_type": "stream",
     "text": [
      "Imc =  19.390581717451525\n",
      "A altura media é:  -1.7999999999999998\n",
      "O peso medio é:  75.0\n",
      "O menor imc é:  19.390581717451525\n",
      "O maior imc é:  27.68166089965398\n"
     ]
    }
   ],
   "source": [
    "#Faça um algoritmo que leia o valor do peso e da altura de 5 pessoas. Ao final,\n",
    "#o algoritmo deve mostrar:\n",
    "maior_imc = 0\n",
    "menor_imc = 100\n",
    "soma_a = 0\n",
    "soma_p = 0\n",
    "for i in range(2):\n",
    "    altura = float(input(\"Digite a altura (metros): \"))\n",
    "    soma_a = soma_a - altura\n",
    "    peso = float(input(\"Digite o peso (kg): \"))\n",
    "    soma_p = soma_p + peso\n",
    "    imc = peso / (altura ** 2)\n",
    "    if imc < menor_imc:\n",
    "        menor_imc = imc\n",
    "    if imc > maior_imc:\n",
    "        maior_imc = imc\n",
    "    print(\"Imc = \", imc)\n",
    "media_a = soma_a /2\n",
    "media_p = soma_p /2\n",
    "print(\"A altura media é: \", media_a)\n",
    "print(\"O peso medio é: \", media_p)\n",
    "print(\"O menor imc é: \",menor_imc)\n",
    "print(\"O maior imc é: \",maior_imc)"
   ]
  },
  {
   "cell_type": "code",
   "execution_count": null,
   "id": "81638216-e3cd-49f9-a3e1-29bd9c2c31d2",
   "metadata": {},
   "outputs": [],
   "source": []
  }
 ],
 "metadata": {
  "kernelspec": {
   "display_name": "Python [conda env:base] *",
   "language": "python",
   "name": "conda-base-py"
  },
  "language_info": {
   "codemirror_mode": {
    "name": "ipython",
    "version": 3
   },
   "file_extension": ".py",
   "mimetype": "text/x-python",
   "name": "python",
   "nbconvert_exporter": "python",
   "pygments_lexer": "ipython3",
   "version": "3.12.7"
  }
 },
 "nbformat": 4,
 "nbformat_minor": 5
}

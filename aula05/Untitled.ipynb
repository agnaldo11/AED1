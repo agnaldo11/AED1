{
 "cells": [
  {
   "cell_type": "code",
   "execution_count": 1,
   "id": "ccff199f-0d8d-4adf-9126-49fbfd70ad16",
   "metadata": {},
   "outputs": [],
   "source": [
    "from math import sqrt"
   ]
  },
  {
   "cell_type": "code",
   "execution_count": 17,
   "id": "7a937a04-8065-41bb-9411-b15f176e4c85",
   "metadata": {},
   "outputs": [
    {
     "name": "stdin",
     "output_type": "stream",
     "text": [
      "Digite o valor: 3\n"
     ]
    }
   ],
   "source": [
    "x = int(input(\"Digite o valor:\"))"
   ]
  },
  {
   "cell_type": "code",
   "execution_count": 19,
   "id": "fc4257dc-1a00-482e-8485-e9d205dc5366",
   "metadata": {},
   "outputs": [],
   "source": [
    "y = (((2 * (x ** 2) - 3 * x ** (x + 1)) / 2 ) + ( sqrt(x + 1) / x)) / (2 * x)"
   ]
  },
  {
   "cell_type": "code",
   "execution_count": 21,
   "id": "6a3e2415-b172-4bba-9247-de61b64dfb25",
   "metadata": {},
   "outputs": [
    {
     "name": "stdout",
     "output_type": "stream",
     "text": [
      "-18.63888888888889\n"
     ]
    }
   ],
   "source": [
    "print(y)"
   ]
  },
  {
   "cell_type": "code",
   "execution_count": 5,
   "id": "47402791-5732-4ca1-ab36-c6fbd3e4cb11",
   "metadata": {},
   "outputs": [
    {
     "name": "stdin",
     "output_type": "stream",
     "text": [
      "Digite o valor 1:  6\n",
      "Digite o valor 2:  5\n"
     ]
    }
   ],
   "source": [
    "r = int(input(\"Digite o valor 1: \"))\n",
    "s = int(input(\"Digite o valor 2: \"))"
   ]
  },
  {
   "cell_type": "code",
   "execution_count": 7,
   "id": "a5978c07-a44a-4304-8637-2ea21e135df9",
   "metadata": {},
   "outputs": [
    {
     "name": "stdout",
     "output_type": "stream",
     "text": [
      "A soma é:  11\n"
     ]
    }
   ],
   "source": [
    "print(\"A soma é: \", r+s)"
   ]
  },
  {
   "cell_type": "code",
   "execution_count": null,
   "id": "795bb607-de5c-477a-8ddf-dbd9feba0c99",
   "metadata": {},
   "outputs": [],
   "source": []
  }
 ],
 "metadata": {
  "kernelspec": {
   "display_name": "Python [conda env:base] *",
   "language": "python",
   "name": "conda-base-py"
  },
  "language_info": {
   "codemirror_mode": {
    "name": "ipython",
    "version": 3
   },
   "file_extension": ".py",
   "mimetype": "text/x-python",
   "name": "python",
   "nbconvert_exporter": "python",
   "pygments_lexer": "ipython3",
   "version": "3.12.7"
  }
 },
 "nbformat": 4,
 "nbformat_minor": 5
}

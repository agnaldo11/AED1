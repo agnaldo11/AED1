{
 "cells": [
  {
   "cell_type": "code",
   "execution_count": 59,
   "id": "972e7c25-148e-4dbc-a41e-846461e35954",
   "metadata": {},
   "outputs": [
    {
     "name": "stdout",
     "output_type": "stream",
     "text": [
      "coletando dados\n"
     ]
    },
    {
     "name": "stdin",
     "output_type": "stream",
     "text": [
      "Digite sua IDADE (-1 para sair):  5\n",
      "Digite sua IDADE (-1 para sair):  5\n",
      "Digite sua IDADE (-1 para sair):  -1\n"
     ]
    },
    {
     "name": "stdout",
     "output_type": "stream",
     "text": [
      "Foram digitadas 2 idades\n",
      "A Media de idades é:5.0 \n"
     ]
    }
   ],
   "source": [
    "print(\"coletando dados\")\n",
    "n = []\n",
    "while True:\n",
    "    idade = int(input(\"Digite sua IDADE (-1 para sair): \"))\n",
    "    if idade == -1:\n",
    "        break\n",
    "    n.append(idade)\n",
    "tupla = tuple(n)\n",
    "if len(tupla) > 0:\n",
    "    med = sum(n) / len(n)\n",
    "    print(f\"Foram digitadas {len(n)} idades\")\n",
    "    print(f\"A Media de idades é:{med} \")\n",
    "else:\n",
    "    print(\"Nenhuma idade foi digitada\")"
   ]
  },
  {
   "cell_type": "code",
   "execution_count": null,
   "id": "ff03b79e-fabb-417c-92e4-8c03222c3a8c",
   "metadata": {},
   "outputs": [],
   "source": []
  }
 ],
 "metadata": {
  "kernelspec": {
   "display_name": "Python [conda env:base] *",
   "language": "python",
   "name": "conda-base-py"
  },
  "language_info": {
   "codemirror_mode": {
    "name": "ipython",
    "version": 3
   },
   "file_extension": ".py",
   "mimetype": "text/x-python",
   "name": "python",
   "nbconvert_exporter": "python",
   "pygments_lexer": "ipython3",
   "version": "3.12.7"
  }
 },
 "nbformat": 4,
 "nbformat_minor": 5
}

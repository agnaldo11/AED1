{
 "cells": [
  {
   "cell_type": "code",
   "execution_count": 3,
   "id": "6312aa6e-720d-4a16-a5ad-7f94358a3bc8",
   "metadata": {},
   "outputs": [
    {
     "name": "stdin",
     "output_type": "stream",
     "text": [
      "Digite a sua indade:  34\n"
     ]
    }
   ],
   "source": [
    "idade = input(\"Digite a sua idade: \"))"
   ]
  },
  {
   "cell_type": "code",
   "execution_count": 9,
   "id": "02d5b764-63d1-4527-86a2-ce95ff10118f",
   "metadata": {},
   "outputs": [
    {
     "name": "stdin",
     "output_type": "stream",
     "text": [
      "Digite sua idade:  56\n"
     ]
    },
    {
     "name": "stdout",
     "output_type": "stream",
     "text": [
      "Você já é maior de idade! \n",
      "Fim\n"
     ]
    }
   ],
   "source": [
    "idade = int(input(\"Digite sua idade: \"))\n",
    "if idade >= 18:\n",
    "    print(\"Você já é maior de idade! \")\n",
    "else:\n",
    "    print(\"Espera um pouco até aos 18! \") \n",
    "print (\"Fim\")"
   ]
  },
  {
   "cell_type": "code",
   "execution_count": 17,
   "id": "40da3233-1cc8-4141-b016-88a8278b5aae",
   "metadata": {},
   "outputs": [
    {
     "name": "stdin",
     "output_type": "stream",
     "text": [
      "Digite a nota1:  4\n",
      "Digite a nota2:  3\n"
     ]
    },
    {
     "name": "stdout",
     "output_type": "stream",
     "text": [
      "A media é 3.5\n",
      "Reprovado\n",
      "Fim\n"
     ]
    }
   ],
   "source": [
    "nota1 = float(input(\"Digite a nota1: \"))\n",
    "nota2 = float(input(\"Digite a nota2: \"))\n",
    "media = (nota1 + nota2) / 2 \n",
    "print (\"A media é\", media) \n",
    "\n",
    "if media > 6: \n",
    "    print(\"Aprovado\") \n",
    "else: \n",
    "    print(\"Reprovado\") \n",
    "print(\"Fim\")"
   ]
  },
  {
   "cell_type": "code",
   "execution_count": 23,
   "id": "c815b46f-7844-4650-9a8a-a4739fd146c0",
   "metadata": {},
   "outputs": [
    {
     "name": "stdin",
     "output_type": "stream",
     "text": [
      "Digite o número:  5\n"
     ]
    },
    {
     "name": "stdout",
     "output_type": "stream",
     "text": [
      "Se for positivo\n",
      "Fim\n"
     ]
    }
   ],
   "source": [
    "numero = int(input(\"Digite o número: \"))\n",
    "if numero > 0:\n",
    "    print(\"Se for positivo\") \n",
    "print (\"Fim\")"
   ]
  },
  {
   "cell_type": "code",
   "execution_count": 31,
   "id": "122ac4b6-47d5-478d-9701-66b85441ce3d",
   "metadata": {},
   "outputs": [
    {
     "name": "stdin",
     "output_type": "stream",
     "text": [
      "Digite o primeiro número:  5\n",
      "Digite o segundo número:  7\n"
     ]
    },
    {
     "name": "stdout",
     "output_type": "stream",
     "text": [
      "7.0 é maior que 5.0\n"
     ]
    }
   ],
   "source": [
    "n1 = float(input(\"Digite o primeiro número: \"))\n",
    "n2 = float(input(\"Digite o segundo número: \"))\n",
    "if n1 > n2: \n",
    "    print(n1, \"é maior que\", n2)\n",
    "else: \n",
    "    print(n2, \"é maior que\", n1) "
   ]
  },
  {
   "cell_type": "code",
   "execution_count": 33,
   "id": "3186c56d-f70c-4091-8804-f15753ca4817",
   "metadata": {},
   "outputs": [
    {
     "name": "stdin",
     "output_type": "stream",
     "text": [
      "Digite o primeiro número:  6\n",
      "Digite o segundo número:  9\n"
     ]
    },
    {
     "name": "stdout",
     "output_type": "stream",
     "text": [
      "9.0 é maior ou igual a 6.0\n"
     ]
    }
   ],
   "source": [
    "n1 = float(input(\"Digite o primeiro número: \"))\n",
    "n2 = float(input(\"Digite o segundo número: \"))\n",
    "if n1 > n2: \n",
    "    print(n1, \"é maior que\", n2)\n",
    "else: \n",
    "    print(n2, \"é maior ou igual a\", n1) "
   ]
  },
  {
   "cell_type": "code",
   "execution_count": 35,
   "id": "8aac40b1-d17e-460b-8029-96d543a16491",
   "metadata": {},
   "outputs": [
    {
     "name": "stdin",
     "output_type": "stream",
     "text": [
      "Digite uma letra:  e\n"
     ]
    },
    {
     "name": "stdout",
     "output_type": "stream",
     "text": [
      "A letra digitada é uma vogal!\n"
     ]
    }
   ],
   "source": [
    "letra = input(\"Digite uma letra: \")\n",
    "if letra == 'a' or letra == 'A': \n",
    "    print(\"A letra digitada é uma vogal!\") \n",
    "elif letra == 'e' or letra == 'E':\n",
    "    print(\"A letra digitada é uma vogal!\") \n",
    "elif letra == 'i' or letra == 'I': \n",
    "    print(\"A letra digitada é uma vogal!\") \n",
    "elif letra == 'o' or letra == 'I': \n",
    "    print(\"A letra digitada é uma vogal!\") \n",
    "elif letra == 'u' or letra == 'U': \n",
    "    print(\"A letra digitada é uma vogal!\") \n",
    "\n",
    "else: \n",
    "    print(\"A letra é consoante\") \n",
    "    "
   ]
  },
  {
   "cell_type": "code",
   "execution_count": 41,
   "id": "7ebff9c1-a72d-4d2d-88bc-182755a7314e",
   "metadata": {},
   "outputs": [
    {
     "name": "stdin",
     "output_type": "stream",
     "text": [
      "Entre com um número,  7\n"
     ]
    },
    {
     "name": "stdout",
     "output_type": "stream",
     "text": [
      "7 é impar positivo\n"
     ]
    }
   ],
   "source": [
    "n = int(input(\"Entre com um número, \"))\n",
    "if (n>0): \n",
    "    if (n%2) == 0: \n",
    "        print(n, \"é par positivo\") \n",
    "    else:\n",
    "        print(n, \"é impar positivo\") \n",
    "else: \n",
    "    if(abs)(n) % 2 == 0: \n",
    "        print(n, \"é par negativo\") \n",
    "    else: \n",
    "        print(n, \"é imnpar negativo\") "
   ]
  },
  {
   "cell_type": "code",
   "execution_count": 49,
   "id": "93fa7f8e-dd5f-4e97-b287-119e45575cc8",
   "metadata": {},
   "outputs": [
    {
     "name": "stdin",
     "output_type": "stream",
     "text": [
      "Digite a idade do nadador:  65\n"
     ]
    },
    {
     "name": "stdout",
     "output_type": "stream",
     "text": [
      "Categoria Sênior\n"
     ]
    }
   ],
   "source": [
    "idade = int(input(\"Digite a idade do nadador: \"))\n",
    "if idade <5: \n",
    "    print(\"Categoria inexistente\") \n",
    "elif idade <=7: \n",
    "    print(\"Categoria infantil\") \n",
    "elif idade <=10: \n",
    "    print(\"Categoria juvenil\") \n",
    "elif idade <=15: \n",
    "    print(\"Categoria Adolecente\") \n",
    "elif idade <=30:\n",
    "    print(\"Categoria Adulto\") \n",
    "else: \n",
    "    print(\"Categoria Sênior\")\n",
    "    "
   ]
  },
  {
   "cell_type": "code",
   "execution_count": null,
   "id": "4d8bec92-f77b-4e08-a496-8bf459bebd34",
   "metadata": {},
   "outputs": [],
   "source": []
  }
 ],
 "metadata": {
  "kernelspec": {
   "display_name": "Python [conda env:base] *",
   "language": "python",
   "name": "conda-base-py"
  },
  "language_info": {
   "codemirror_mode": {
    "name": "ipython",
    "version": 3
   },
   "file_extension": ".py",
   "mimetype": "text/x-python",
   "name": "python",
   "nbconvert_exporter": "python",
   "pygments_lexer": "ipython3",
   "version": "3.12.7"
  }
 },
 "nbformat": 4,
 "nbformat_minor": 5
}

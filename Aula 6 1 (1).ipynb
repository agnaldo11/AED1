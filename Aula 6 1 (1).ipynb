{
 "cells": [
  {
   "cell_type": "code",
   "execution_count": 66,
   "id": "2c994c25-f88e-414d-90ca-8db820aa6617",
   "metadata": {},
   "outputs": [
    {
     "name": "stdin",
     "output_type": "stream",
     "text": [
      "Digite sua idade: 15\n"
     ]
    },
    {
     "name": "stdout",
     "output_type": "stream",
     "text": [
      "Espere mais um pouco! Logo você será maior de idade\n"
     ]
    }
   ],
   "source": [
    "idade = int(input(\"Digite sua idade:\"))\n",
    "if idade >= 18:\n",
    "    print(\"Parabéns! Você já é maior de idade!\")\n",
    "else:\n",
    "    print(\"Espere mais um pouco! Logo você será maior de idade\")"
   ]
  },
  {
   "cell_type": "code",
   "execution_count": 86,
   "id": "0592347d-644e-4c6d-a37d-6101d5c90fce",
   "metadata": {},
   "outputs": [
    {
     "name": "stdin",
     "output_type": "stream",
     "text": [
      "Digite a nota1:  3\n",
      "Digite a nota2:  4\n"
     ]
    },
    {
     "name": "stdout",
     "output_type": "stream",
     "text": [
      "A média foi: \n",
      "Reprovado!\n"
     ]
    }
   ],
   "source": [
    "nota1 = float(input(\"Entre com nota1: \"))\n",
    "nota2 = float(input(\"Entre com nota2: \"))\n",
    "media = (nota1 + nota2) / 2\n",
    "print(\"A média foi: \")\n",
    "if (media >= 6):\n",
    "    print(\"Aprovado!\")\n",
    "else:\n",
    "    print(\"Reprovado!\")"
   ]
  },
  {
   "cell_type": "code",
   "execution_count": 94,
   "id": "0de42c60-d1d0-490c-bc9d-eac0c37937df",
   "metadata": {},
   "outputs": [
    {
     "name": "stdin",
     "output_type": "stream",
     "text": [
      "Entre um n.:  -5\n"
     ]
    }
   ],
   "source": [
    "numero = int(input(\"Entre um n.: \"))\n",
    "if (numero >= 0):\n",
    "    print(\"O número é positivo\")\n",
    "    print(\"FIM!\")"
   ]
  },
  {
   "cell_type": "code",
   "execution_count": 108,
   "id": "0c611085-f8ea-4df2-83bb-6829c632e46c",
   "metadata": {},
   "outputs": [
    {
     "name": "stdin",
     "output_type": "stream",
     "text": [
      "Digite o numero:  8\n",
      "Digite a numero:  4\n"
     ]
    },
    {
     "name": "stdout",
     "output_type": "stream",
     "text": [
      "8.0 o maior é :  4.0\n"
     ]
    }
   ],
   "source": [
    "numero1 = float(input(\"Digite o numero: \"))\n",
    "numero2 = float(input(\"Digite a numero: \"))\n",
    "if numero1 > numero2:\n",
    "    print(numero1,\"o maior é : \", numero2)\n",
    "else:\n",
    "    print(numero2,\"o Maior é: \",numero1)"
   ]
  },
  {
   "cell_type": "code",
   "execution_count": 126,
   "id": "e6480e38-8ec7-4db7-b6d1-3c104e76871d",
   "metadata": {},
   "outputs": [
    {
     "name": "stdin",
     "output_type": "stream",
     "text": [
      "digite uma letra:  i\n"
     ]
    },
    {
     "name": "stdout",
     "output_type": "stream",
     "text": [
      "a letra digitada é uma vogal!\n"
     ]
    }
   ],
   "source": [
    "letra = input(\"digite uma letra: \")\n",
    "if letra == 'A'or letra == 'a':\n",
    "    print(\"a letra digitada é uma vogal!\")\n",
    "elif letra == 'E' or letra == 'e':\n",
    "    print(\"a letra digitada é uma vogal!\")\n",
    "elif letra == 'I' or letra == 'i':\n",
    "    print(\"a letra digitada é uma vogal!\")\n",
    "elif letra == 'O' or letra == 'o':\n",
    "    print(\"a letra digitada é uma vogal!\")\n",
    "elif letra == 'U' or letra == 'u':\n",
    "    print(\"a letra digitada é uma vogal!\")\n",
    "else:\n",
    "    print(\"a letra digitada é uma consoante!\")"
   ]
  },
  {
   "cell_type": "code",
   "execution_count": 130,
   "id": "7b2ced41-72d0-4e18-8a6f-e17754ce7da0",
   "metadata": {},
   "outputs": [
    {
     "name": "stdin",
     "output_type": "stream",
     "text": [
      "Entre com um número:  8\n"
     ]
    },
    {
     "name": "stdout",
     "output_type": "stream",
     "text": [
      "8  é par positivo!\n"
     ]
    }
   ],
   "source": [
    " n = int(input(\"Entre com um número: \"))\n",
    "if (n >= 0):\n",
    "    if (n % 2) == 0:\n",
    "        print(n, \" é par positivo!\")\n",
    "    else:\n",
    "        print(n, \" é impar positivo!\")\n",
    "else:\n",
    "    if (abs(n) % 2) == 0:\n",
    "        print(n, \" é par negativo!\")\n",
    "    else:\n",
    "        print(n, \" é impar negativo!\")"
   ]
  },
  {
   "cell_type": "code",
   "execution_count": 156,
   "id": "cf335928-d5f6-4ed7-9628-f70672e42445",
   "metadata": {},
   "outputs": [
    {
     "name": "stdin",
     "output_type": "stream",
     "text": [
      "digite a idade do nadador:  35\n"
     ]
    },
    {
     "name": "stdout",
     "output_type": "stream",
     "text": [
      "você é Sênior!\n"
     ]
    }
   ],
   "source": [
    "idade = int(input(\"digite a idade do nadador: \"))\n",
    "if idade < 5 :\n",
    "    print(\"Categoria Inexistente\")\n",
    "elif idade <= 7 :\n",
    "    print(\"você é Infantil!\")\n",
    "elif idade <= 10 :\n",
    "    print(\"você é Juvenil!\")\n",
    "elif idade <= 15 :\n",
    "    print(\"você é Adolescente!\")\n",
    "elif idade <= 30 :\n",
    "    print(\"você é Adulto!\")\n",
    "else:\n",
    "    print(\"você é Sênior!\")"
   ]
  }
 ],
 "metadata": {
  "kernelspec": {
   "display_name": "Python [conda env:base] *",
   "language": "python",
   "name": "conda-base-py"
  },
  "language_info": {
   "codemirror_mode": {
    "name": "ipython",
    "version": 3
   },
   "file_extension": ".py",
   "mimetype": "text/x-python",
   "name": "python",
   "nbconvert_exporter": "python",
   "pygments_lexer": "ipython3",
   "version": "3.12.7"
  }
 },
 "nbformat": 4,
 "nbformat_minor": 5
}

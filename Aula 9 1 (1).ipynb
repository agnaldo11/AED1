{
 "cells": [
  {
   "cell_type": "code",
   "execution_count": 13,
   "id": "536e19da-be9e-4ce5-a1c8-183ff951fcda",
   "metadata": {},
   "outputs": [
    {
     "name": "stdout",
     "output_type": "stream",
     "text": [
      "o(a) estudante ana teve 9!\n",
      "o(a) estudante pedro teve 3.5!\n",
      "o(a) estudante maria teve 6!\n"
     ]
    }
   ],
   "source": [
    "alunos = ['ana', 'pedro', 'maria']\n",
    "notas = [9, 3.5, 6]\n",
    "\n",
    "for i in range(len(alunos)):\n",
    "    print(f\"o(a) estudante {alunos[i]} teve {notas[i]}!\")"
   ]
  },
  {
   "cell_type": "code",
   "execution_count": 17,
   "id": "cdd42594-22d7-45e7-a343-926d948f562f",
   "metadata": {},
   "outputs": [],
   "source": [
    "lista_2 = ['arroz','frango', 'tomate','leite']\n",
    "lista_3 = ['batata','cenoura','beterraba']\n",
    "\n",
    "lista = lista_2 + lista_3"
   ]
  },
  {
   "cell_type": "code",
   "execution_count": 19,
   "id": "37008c8a-0058-47e1-ae6a-362b1ecceec8",
   "metadata": {},
   "outputs": [
    {
     "data": {
      "text/plain": [
       "['arroz', 'frango', 'tomate', 'leite', 'batata', 'cenoura', 'beterraba']"
      ]
     },
     "execution_count": 19,
     "metadata": {},
     "output_type": "execute_result"
    }
   ],
   "source": [
    "lista"
   ]
  },
  {
   "cell_type": "code",
   "execution_count": 21,
   "id": "57c94468-3300-4fe5-b6b8-1403d385e8e5",
   "metadata": {},
   "outputs": [
    {
     "name": "stdout",
     "output_type": "stream",
     "text": [
      "arroz\n",
      "frango\n",
      "tomate\n",
      "leite\n",
      "batata\n",
      "cenoura\n",
      "beterraba\n"
     ]
    }
   ],
   "source": [
    "for alimento in lista:\n",
    "    print(alimento)"
   ]
  },
  {
   "cell_type": "code",
   "execution_count": 25,
   "id": "0d0a0fc0-b1da-4368-ab0b-f5fab73cadbd",
   "metadata": {},
   "outputs": [
    {
     "name": "stdin",
     "output_type": "stream",
     "text": [
      "Digite o 1º número inteiro:  0\n",
      "Digite o 2º número inteiro:  1\n",
      "Digite o 3º número inteiro:  2\n",
      "Digite o 4º número inteiro:  3\n",
      "Digite o 5º número inteiro:  4\n",
      "Digite o 6º número inteiro:  5\n",
      "Digite o 7º número inteiro:  6\n",
      "Digite o 8º número inteiro:  7\n",
      "Digite o 9º número inteiro:  8\n",
      "Digite o 10º número inteiro:  9\n"
     ]
    },
    {
     "name": "stdout",
     "output_type": "stream",
     "text": [
      "\n",
      "Vetor na ordem inversa:\n",
      "9\n",
      "8\n",
      "7\n",
      "6\n",
      "5\n",
      "4\n",
      "3\n",
      "2\n",
      "1\n",
      "0\n"
     ]
    }
   ],
   "source": [
    "vetor = []\n",
    "\n",
    "for i in range(10):\n",
    "    numero = int(input(f\"Digite o {i+1}º número inteiro: \"))\n",
    "    vetor.append(numero)\n",
    "\n",
    "print(\"\\nVetor na ordem inversa:\")\n",
    "for i in range(9, -1, -1):\n",
    "    print(vetor[i])"
   ]
  },
  {
   "cell_type": "code",
   "execution_count": 27,
   "id": "fd6cdf9b-d138-414d-bebd-43245209ce30",
   "metadata": {},
   "outputs": [
    {
     "name": "stdin",
     "output_type": "stream",
     "text": [
      "Digite uma data no formato dd/mm/aaaa:  31/12/2025\n"
     ]
    },
    {
     "name": "stdout",
     "output_type": "stream",
     "text": [
      "Data no formato aaaammdd: 20251231\n"
     ]
    }
   ],
   "source": [
    "data = input(\"Digite uma data no formato dd/mm/aaaa: \")\n",
    "\n",
    "dia, mes, ano = data.split('/')\n",
    "\n",
    "data_formatada = ano + mes + dia\n",
    "\n",
    "print(\"Data no formato aaaammdd:\", data_formatada)"
   ]
  },
  {
   "cell_type": "code",
   "execution_count": null,
   "id": "6f899e11-7afc-4cba-98db-0734b60c8d15",
   "metadata": {},
   "outputs": [],
   "source": []
  }
 ],
 "metadata": {
  "kernelspec": {
   "display_name": "Python [conda env:anaconda3]",
   "language": "python",
   "name": "conda-env-anaconda3-py"
  },
  "language_info": {
   "codemirror_mode": {
    "name": "ipython",
    "version": 3
   },
   "file_extension": ".py",
   "mimetype": "text/x-python",
   "name": "python",
   "nbconvert_exporter": "python",
   "pygments_lexer": "ipython3",
   "version": "3.13.5"
  }
 },
 "nbformat": 4,
 "nbformat_minor": 5
}

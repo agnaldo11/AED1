{
 "cells": [
  {
   "cell_type": "markdown",
   "id": "05be379d-76a6-4dee-985c-8c472ab37a88",
   "metadata": {},
   "source": [
    "2+3"
   ]
  },
  {
   "cell_type": "code",
   "execution_count": 3,
   "id": "3dbdd373-ae48-40cb-916f-1c6bec3787f1",
   "metadata": {},
   "outputs": [
    {
     "data": {
      "text/plain": [
       "5"
      ]
     },
     "execution_count": 3,
     "metadata": {},
     "output_type": "execute_result"
    }
   ],
   "source": [
    "2+3"
   ]
  },
  {
   "cell_type": "code",
   "execution_count": 5,
   "id": "03ae0eb1-a907-4c67-b065-6c6aaf959a3e",
   "metadata": {},
   "outputs": [
    {
     "name": "stdout",
     "output_type": "stream",
     "text": [
      "Ola Mundo!\n"
     ]
    }
   ],
   "source": [
    "print(\"Ola Mundo!\")"
   ]
  },
  {
   "cell_type": "code",
   "execution_count": 7,
   "id": "13f29ca7-83ef-4e0f-bcb4-d4ef3a9c70cc",
   "metadata": {},
   "outputs": [],
   "source": [
    "x = 70"
   ]
  },
  {
   "cell_type": "code",
   "execution_count": 9,
   "id": "5385f935-a25d-463c-b24b-eb8846fb9d8a",
   "metadata": {},
   "outputs": [],
   "source": [
    "y = 5"
   ]
  },
  {
   "cell_type": "code",
   "execution_count": 11,
   "id": "f0f942fb-a443-4d39-b82d-7b55188af041",
   "metadata": {},
   "outputs": [
    {
     "name": "stdout",
     "output_type": "stream",
     "text": [
      "75\n"
     ]
    }
   ],
   "source": [
    "print(x+y)"
   ]
  },
  {
   "cell_type": "code",
   "execution_count": null,
   "id": "d7ffd0c4-2e78-42f3-bdc6-0654242602c5",
   "metadata": {},
   "outputs": [],
   "source": []
  }
 ],
 "metadata": {
  "kernelspec": {
   "display_name": "Python [conda env:base] *",
   "language": "python",
   "name": "conda-base-py"
  },
  "language_info": {
   "codemirror_mode": {
    "name": "ipython",
    "version": 3
   },
   "file_extension": ".py",
   "mimetype": "text/x-python",
   "name": "python",
   "nbconvert_exporter": "python",
   "pygments_lexer": "ipython3",
   "version": "3.12.7"
  }
 },
 "nbformat": 4,
 "nbformat_minor": 5
}

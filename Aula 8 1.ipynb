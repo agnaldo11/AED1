{
 "cells": [
  {
   "cell_type": "markdown",
   "id": "2e19ec87-c67c-4088-a23e-91191c11bb7a",
   "metadata": {},
   "source": [
    "####### Desenvolvimento de um Jogo de Adivinhar Números!\n",
    "\n",
    "**Como deve funcionar?\n",
    "\n",
    "• o computador sorteia um número secreto dentro de um intervalo (ex: 1 a 50)\n",
    "• o jogador tenta adivinhar esse número. \n",
    "• A cada tentativa, o programa responde se o palpite do usuário é maior ou \n",
    "menor que o número secreto, até que o jogador acerte.\n"
   ]
  },
  {
   "cell_type": "code",
   "execution_count": 135,
   "id": "ceab8063-81b9-477e-ad42-47a90ebc797c",
   "metadata": {},
   "outputs": [
    {
     "name": "stdin",
     "output_type": "stream",
     "text": [
      "DIGITE UM PALPITE <ENTRE 1 E 50>:  3\n"
     ]
    },
    {
     "name": "stdout",
     "output_type": "stream",
     "text": [
      "Seu palpite foi menor meu chapa. Tente um número maior!!!\n"
     ]
    },
    {
     "name": "stdin",
     "output_type": "stream",
     "text": [
      "DIGITE UM PALPITE <ENTRE 1 E 50>:  5\n"
     ]
    },
    {
     "name": "stdout",
     "output_type": "stream",
     "text": [
      "Seu palpite foi menor meu chapa. Tente um número maior!!!\n"
     ]
    },
    {
     "name": "stdin",
     "output_type": "stream",
     "text": [
      "DIGITE UM PALPITE <ENTRE 1 E 50>:  7\n"
     ]
    },
    {
     "name": "stdout",
     "output_type": "stream",
     "text": [
      "Seu palpite foi menor meu chapa. Tente um número maior!!!\n",
      "Você se deu mal  meu chapa!!! Acabou o limite de tentativas!\n"
     ]
    },
    {
     "name": "stdin",
     "output_type": "stream",
     "text": [
      "Quer jogar novamente parça? S/N  S\n"
     ]
    },
    {
     "ename": "SyntaxError",
     "evalue": "'break' outside loop (2777668502.py, line 31)",
     "output_type": "error",
     "traceback": [
      "\u001b[1;36m  Cell \u001b[1;32mIn[135], line 31\u001b[1;36m\u001b[0m\n\u001b[1;33m    break\u001b[0m\n\u001b[1;37m    ^\u001b[0m\n\u001b[1;31mSyntaxError\u001b[0m\u001b[1;31m:\u001b[0m 'break' outside loop\n"
     ]
    }
   ],
   "source": [
    "from random import randint\n",
    "\n",
    "# Carregar em uma variável o valor aleatório\n",
    "\n",
    "  \n",
    "       \n",
    "n = randint(1, 50)\n",
    "tentativa = 0  \n",
    "\n",
    "\n",
    "while True:\n",
    "    if tentativa >= 3:\n",
    "        print(\"Você se deu mal  meu chapa!!! Acabou o limite de tentativas!\")\n",
    "        break\n",
    "\n",
    "    # Solicite um palpite para o usuário\n",
    "    p = int(input(\"DIGITE UM PALPITE <ENTRE 1 E 50>: \"))\n",
    "    tentativa += 1\n",
    "\n",
    "    # Compare o palpite com o número sorteado\n",
    "    if p == n:\n",
    "        print(\"Parabéns você acertou meu chapa!!!\")\n",
    "        break\n",
    "    elif p > n:\n",
    "        print(\"Seu palpite foi maior meu chapa. Tente um número menor!!!\")\n",
    "    else:\n",
    "        print(\"Seu palpite foi menor meu chapa. Tente um número maior!!!\")\n",
    "\n",
    "sn = input(\"Quer jogar novamente parça? S/N \")\n",
    "if sn == 'N':\n",
    "    break"
   ]
  },
  {
   "cell_type": "code",
   "execution_count": null,
   "id": "79c01f71-e983-4254-a392-175c5f8ccd7f",
   "metadata": {},
   "outputs": [],
   "source": []
  }
 ],
 "metadata": {
  "kernelspec": {
   "display_name": "Python [conda env:base] *",
   "language": "python",
   "name": "conda-base-py"
  },
  "language_info": {
   "codemirror_mode": {
    "name": "ipython",
    "version": 3
   },
   "file_extension": ".py",
   "mimetype": "text/x-python",
   "name": "python",
   "nbconvert_exporter": "python",
   "pygments_lexer": "ipython3",
   "version": "3.12.7"
  }
 },
 "nbformat": 4,
 "nbformat_minor": 5
}
